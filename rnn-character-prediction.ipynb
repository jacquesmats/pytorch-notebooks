{
  "nbformat": 4,
  "nbformat_minor": 0,
  "metadata": {
    "colab": {
      "name": "Copy of Character_Level_RNN_Exercise.ipynb",
      "version": "0.3.2",
      "provenance": [],
      "collapsed_sections": []
    },
    "kernelspec": {
      "name": "python3",
      "display_name": "Python 3"
    },
    "accelerator": "GPU"
  },
  "cells": [
    {
      "metadata": {
        "id": "XbKxLpDBUHKS",
        "colab_type": "text"
      },
      "cell_type": "markdown",
      "source": [
        "# Character-Level LSTM in PyTorch\n",
        "\n",
        "In this notebook, I'll construct a character-level LSTM with PyTorch. The network will train character by character on some text, then generate new text character by character. As an example, I will train on Anna Karenina. **This model will be able to generate new text based on the text from the book!**\n",
        "\n",
        "This network is based off of Andrej Karpathy's [post on RNNs](http://karpathy.github.io/2015/05/21/rnn-effectiveness/) and [implementation in Torch](https://github.com/karpathy/char-rnn). Below is the general architecture of the character-wise RNN.\n",
        "\n",
        "<img src=\"https://github.com/udacity/deep-learning-v2-pytorch/blob/master/recurrent-neural-networks/char-rnn/assets/charseq.jpeg?raw=1\" width=\"500\">"
      ]
    },
    {
      "metadata": {
        "id": "zgVf38L3WJX0",
        "colab_type": "code",
        "outputId": "985363f5-091f-42fc-ec96-be7f537e5844",
        "colab": {
          "base_uri": "https://localhost:8080/",
          "height": 54
        }
      },
      "cell_type": "code",
      "source": [
        "# http://pytorch.org/\n",
        "from os.path import exists\n",
        "from wheel.pep425tags import get_abbr_impl, get_impl_ver, get_abi_tag\n",
        "platform = '{}{}-{}'.format(get_abbr_impl(), get_impl_ver(), get_abi_tag())\n",
        "cuda_output = !ldconfig -p|grep cudart.so|sed -e 's/.*\\.\\([0-9]*\\)\\.\\([0-9]*\\)$/cu\\1\\2/'\n",
        "accelerator = cuda_output[0] if exists('/dev/nvidia0') else 'cpu'\n",
        "\n",
        "!pip install -q http://download.pytorch.org/whl/{accelerator}/torch-0.4.1-{platform}-linux_x86_64.whl torchvision\n",
        "import torch"
      ],
      "execution_count": 1,
      "outputs": [
        {
          "output_type": "stream",
          "text": [
            "tcmalloc: large alloc 1073750016 bytes == 0x58f7e000 @  0x7fe39b84a2a4 0x591a07 0x5b5d56 0x502e9a 0x506859 0x502209 0x502f3d 0x506859 0x504c28 0x502540 0x502f3d 0x506859 0x504c28 0x502540 0x502f3d 0x506859 0x504c28 0x502540 0x502f3d 0x507641 0x502209 0x502f3d 0x506859 0x504c28 0x502540 0x502f3d 0x507641 0x504c28 0x502540 0x502f3d 0x507641\n"
          ],
          "name": "stdout"
        }
      ]
    },
    {
      "metadata": {
        "id": "aqLi2LVOh_u_",
        "colab_type": "code",
        "outputId": "2788f6d2-3819-443d-94df-b750463fd2fe",
        "colab": {
          "base_uri": "https://localhost:8080/",
          "height": 124
        }
      },
      "cell_type": "code",
      "source": [
        "from google.colab import drive\n",
        "drive.mount('/content/drive/')"
      ],
      "execution_count": 2,
      "outputs": [
        {
          "output_type": "stream",
          "text": [
            "Go to this URL in a browser: https://accounts.google.com/o/oauth2/auth?client_id=947318989803-6bn6qk8qdgf4n4g3pfee6491hc0brc4i.apps.googleusercontent.com&redirect_uri=urn%3Aietf%3Awg%3Aoauth%3A2.0%3Aoob&scope=email%20https%3A%2F%2Fwww.googleapis.com%2Fauth%2Fdocs.test%20https%3A%2F%2Fwww.googleapis.com%2Fauth%2Fdrive%20https%3A%2F%2Fwww.googleapis.com%2Fauth%2Fdrive.photos.readonly%20https%3A%2F%2Fwww.googleapis.com%2Fauth%2Fpeopleapi.readonly&response_type=code\n",
            "\n",
            "Enter your authorization code:\n",
            "··········\n",
            "Mounted at /content/drive/\n"
          ],
          "name": "stdout"
        }
      ]
    },
    {
      "metadata": {
        "id": "Y38AJ-OcixlK",
        "colab_type": "code",
        "colab": {}
      },
      "cell_type": "code",
      "source": [
        "import os\n",
        "os.chdir('drive/My Drive/Colab Notebooks/')"
      ],
      "execution_count": 0,
      "outputs": []
    },
    {
      "metadata": {
        "id": "s7t9mLHvUHKh",
        "colab_type": "text"
      },
      "cell_type": "markdown",
      "source": [
        "First let's load in our required resources for data loading and model creation."
      ]
    },
    {
      "metadata": {
        "id": "je7Rgvp5UHKp",
        "colab_type": "code",
        "colab": {}
      },
      "cell_type": "code",
      "source": [
        "import numpy as np\n",
        "import torch\n",
        "from torch import nn\n",
        "import torch.nn.functional as F"
      ],
      "execution_count": 0,
      "outputs": []
    },
    {
      "metadata": {
        "id": "Wm7-zu4SUHLD",
        "colab_type": "text"
      },
      "cell_type": "markdown",
      "source": [
        "## Load in Data\n",
        "\n",
        "Then, we'll load the Anna Karenina text file and convert it into integers for our network to use. "
      ]
    },
    {
      "metadata": {
        "id": "IdKt_RdaUHLN",
        "colab_type": "code",
        "colab": {}
      },
      "cell_type": "code",
      "source": [
        "# open text file and read in data as `text`\n",
        "with open('data/anna.txt', 'r') as f:\n",
        "    text = f.read()"
      ],
      "execution_count": 0,
      "outputs": []
    },
    {
      "metadata": {
        "id": "be0eKZCxUHLe",
        "colab_type": "text"
      },
      "cell_type": "markdown",
      "source": [
        "Let's check out the first 100 characters, make sure everything is peachy. According to the [American Book Review](http://americanbookreview.org/100bestlines.asp), this is the 6th best first line of a book ever."
      ]
    },
    {
      "metadata": {
        "id": "XK5r_gpxUHLl",
        "colab_type": "code",
        "outputId": "d0b17964-b036-463a-e66b-fd6d71288a13",
        "colab": {
          "base_uri": "https://localhost:8080/",
          "height": 34
        }
      },
      "cell_type": "code",
      "source": [
        "text[:100]"
      ],
      "execution_count": 6,
      "outputs": [
        {
          "output_type": "execute_result",
          "data": {
            "text/plain": [
              "'Chapter 1\\n\\n\\nHappy families are all alike; every unhappy family is unhappy in its own\\nway.\\n\\nEverythin'"
            ]
          },
          "metadata": {
            "tags": []
          },
          "execution_count": 6
        }
      ]
    },
    {
      "metadata": {
        "id": "0XLCdsctUHL3",
        "colab_type": "text"
      },
      "cell_type": "markdown",
      "source": [
        "### Tokenization\n",
        "\n",
        "In the cells, below, I'm creating a couple **dictionaries** to convert the characters to and from integers. Encoding the characters as integers makes it easier to use as input in the network."
      ]
    },
    {
      "metadata": {
        "id": "8l5tOOgXUHL8",
        "colab_type": "code",
        "colab": {}
      },
      "cell_type": "code",
      "source": [
        "# encode the text and map each character to an integer and vice versa\n",
        "\n",
        "# we create two dictionaries:\n",
        "# 1. int2char, which maps integers to characters\n",
        "# 2. char2int, which maps characters to unique integers\n",
        "chars = tuple(set(text))\n",
        "int2char = dict(enumerate(chars))\n",
        "char2int = {ch: ii for ii, ch in int2char.items()}\n",
        "\n",
        "# encode the text\n",
        "encoded = np.array([char2int[ch] for ch in text])"
      ],
      "execution_count": 0,
      "outputs": []
    },
    {
      "metadata": {
        "id": "aDcEfONfUHMM",
        "colab_type": "text"
      },
      "cell_type": "markdown",
      "source": [
        "And we can see those same characters from above, encoded as integers."
      ]
    },
    {
      "metadata": {
        "id": "pHHgBcnNUHMS",
        "colab_type": "code",
        "outputId": "6ca427bc-54f7-4d50-c4f2-3bb89fa218fd",
        "colab": {
          "base_uri": "https://localhost:8080/",
          "height": 121
        }
      },
      "cell_type": "code",
      "source": [
        "encoded[:100]"
      ],
      "execution_count": 8,
      "outputs": [
        {
          "output_type": "execute_result",
          "data": {
            "text/plain": [
              "array([40, 71, 46, 82, 52, 78,  5,  0,  8, 45, 45, 45, 66, 46, 82, 82, 76,\n",
              "        0, 21, 46, 26, 30, 53, 30, 78, 31,  0, 46,  5, 78,  0, 46, 53, 53,\n",
              "        0, 46, 53, 30,  3, 78,  2,  0, 78, 80, 78,  5, 76,  0, 51, 64, 71,\n",
              "       46, 82, 82, 76,  0, 21, 46, 26, 30, 53, 76,  0, 30, 31,  0, 51, 64,\n",
              "       71, 46, 82, 82, 76,  0, 30, 64,  0, 30, 52, 31,  0, 17, 43, 64, 45,\n",
              "       43, 46, 76, 77, 45, 45, 27, 80, 78,  5, 76, 52, 71, 30, 64])"
            ]
          },
          "metadata": {
            "tags": []
          },
          "execution_count": 8
        }
      ]
    },
    {
      "metadata": {
        "id": "dM14KKNGUHMo",
        "colab_type": "text"
      },
      "cell_type": "markdown",
      "source": [
        "## Pre-processing the data\n",
        "\n",
        "As you can see in our char-RNN image above, our LSTM expects an input that is **one-hot encoded** meaning that each character is converted into an integer (via our created dictionary) and *then* converted into a column vector where only it's corresponding integer index will have the value of 1 and the rest of the vector will be filled with 0's. Since we're one-hot encoding the data, let's make a function to do that!\n"
      ]
    },
    {
      "metadata": {
        "id": "B9tQ-ylrUHMs",
        "colab_type": "code",
        "colab": {}
      },
      "cell_type": "code",
      "source": [
        "def one_hot_encode(arr, n_labels):\n",
        "    \n",
        "    # Initialize the the encoded array\n",
        "    one_hot = np.zeros((np.multiply(*arr.shape), n_labels), dtype=np.float32)\n",
        "    \n",
        "    # Fill the appropriate elements with ones\n",
        "    one_hot[np.arange(one_hot.shape[0]), arr.flatten()] = 1.\n",
        "    \n",
        "    # Finally reshape it to get back to the original array\n",
        "    one_hot = one_hot.reshape((*arr.shape, n_labels))\n",
        "    \n",
        "    return one_hot"
      ],
      "execution_count": 0,
      "outputs": []
    },
    {
      "metadata": {
        "id": "OkO5osyhUHNJ",
        "colab_type": "code",
        "outputId": "09e9690b-150b-460e-d804-0fb2106bf041",
        "colab": {
          "base_uri": "https://localhost:8080/",
          "height": 69
        }
      },
      "cell_type": "code",
      "source": [
        "# check that the function works as expected\n",
        "test_seq = np.array([[3, 5, 1]])\n",
        "one_hot = one_hot_encode(test_seq, 8)\n",
        "\n",
        "print(one_hot)"
      ],
      "execution_count": 10,
      "outputs": [
        {
          "output_type": "stream",
          "text": [
            "[[[0. 0. 0. 1. 0. 0. 0. 0.]\n",
            "  [0. 0. 0. 0. 0. 1. 0. 0.]\n",
            "  [0. 1. 0. 0. 0. 0. 0. 0.]]]\n"
          ],
          "name": "stdout"
        }
      ]
    },
    {
      "metadata": {
        "id": "w-lBPDX5UHNi",
        "colab_type": "text"
      },
      "cell_type": "markdown",
      "source": [
        "## Making training mini-batches\n",
        "\n",
        "\n",
        "To train on this data, we also want to create mini-batches for training. Remember that we want our batches to be multiple sequences of some desired number of sequence steps. Considering a simple example, our batches would look like this:\n",
        "\n",
        "<img src=\"https://github.com/udacity/deep-learning-v2-pytorch/blob/master/recurrent-neural-networks/char-rnn/assets/sequence_batching@1x.png?raw=1\" width=500px>\n",
        "\n",
        "\n",
        "<br>\n",
        "\n",
        "In this example, we'll take the encoded characters (passed in as the `arr` parameter) and split them into multiple sequences, given by `batch_size`. Each of our sequences will be `seq_length` long.\n",
        "\n",
        "### Creating Batches\n",
        "\n",
        "**1. The first thing we need to do is discard some of the text so we only have completely full mini-batches. **\n",
        "\n",
        "Each batch contains $N \\times M$ characters, where $N$ is the batch size (the number of sequences in a batch) and $M$ is the seq_length or number of time steps in a sequence. Then, to get the total number of batches, $K$, that we can make from the array `arr`, you divide the length of `arr` by the number of characters per batch. Once you know the number of batches, you can get the total number of characters to keep from `arr`, $N * M * K$.\n",
        "\n",
        "**2. After that, we need to split `arr` into $N$ batches. ** \n",
        "\n",
        "You can do this using `arr.reshape(size)` where `size` is a tuple containing the dimensions sizes of the reshaped array. We know we want $N$ sequences in a batch, so let's make that the size of the first dimension. For the second dimension, you can use `-1` as a placeholder in the size, it'll fill up the array with the appropriate data for you. After this, you should have an array that is $N \\times (M * K)$.\n",
        "\n",
        "**3. Now that we have this array, we can iterate through it to get our mini-batches. **\n",
        "\n",
        "The idea is each batch is a $N \\times M$ window on the $N \\times (M * K)$ array. For each subsequent batch, the window moves over by `seq_length`. We also want to create both the input and target arrays. Remember that the targets are just the inputs shifted over by one character. The way I like to do this window is use `range` to take steps of size `n_steps` from $0$ to `arr.shape[1]`, the total number of tokens in each sequence. That way, the integers you get from `range` always point to the start of a batch, and each window is `seq_length` wide.\n",
        "\n",
        "> **TODO:** Write the code for creating batches in the function below. The exercises in this notebook _will not be easy_. I've provided a notebook with solutions alongside this notebook. If you get stuck, checkout the solutions. The most important thing is that you don't copy and paste the code into here, **type out the solution code yourself.**"
      ]
    },
    {
      "metadata": {
        "id": "fmlB5gKAUHNq",
        "colab_type": "code",
        "colab": {}
      },
      "cell_type": "code",
      "source": [
        "def get_batches(arr, batch_size, seq_length):\n",
        "    '''Create a generator that returns batches of size\n",
        "       batch_size x seq_length from arr.\n",
        "       \n",
        "       Arguments\n",
        "       ---------\n",
        "       arr: Array you want to make batches from\n",
        "       batch_size: Batch size, the number of sequences per batch\n",
        "       seq_length: Number of encoded chars in a sequence\n",
        "    '''\n",
        "    \n",
        "    ## TODO: Get the number of batches we can make\n",
        "    n_batches = len(arr) // (batch_size * seq_length)\n",
        "    \n",
        "    ## TODO: Keep only enough characters to make full batches\n",
        "    arr = arr[ : (n_batches * batch_size * seq_length)]\n",
        "    \n",
        "    ## TODO: Reshape into batch_size rows\n",
        "    arr = arr.reshape((batch_size,-1)) \n",
        "    \n",
        "    # iterate through the array, one sequence at a time\n",
        "    for n in range(0, arr.shape[1], seq_length):\n",
        "        # The features\n",
        "        x = arr[:, n:n+seq_length]\n",
        "        # The targets, shifted by one\n",
        "        y = np.zeros_like(x)\n",
        "        try:\n",
        "            y[:, :-1], y[:, -1] = x[:, 1:], arr[:, n+seq_length]\n",
        "        except IndexError:\n",
        "            y[:, :-1], y[:, -1] = x[:, 1:], arr[:, 0]\n",
        "        yield x, y"
      ],
      "execution_count": 0,
      "outputs": []
    },
    {
      "metadata": {
        "id": "1TzPeVqyUHN1",
        "colab_type": "text"
      },
      "cell_type": "markdown",
      "source": [
        "### Test Your Implementation\n",
        "\n",
        "Now I'll make some data sets and we can check out what's going on as we batch data. Here, as an example, I'm going to use a batch size of 8 and 50 sequence steps."
      ]
    },
    {
      "metadata": {
        "id": "JATaX3iOUHN5",
        "colab_type": "code",
        "colab": {}
      },
      "cell_type": "code",
      "source": [
        "batches = get_batches(encoded, 8, 50)\n",
        "x, y = next(batches)"
      ],
      "execution_count": 0,
      "outputs": []
    },
    {
      "metadata": {
        "id": "9WIdf2MIUHOQ",
        "colab_type": "code",
        "outputId": "7bf747d5-90ce-45f1-d4b8-8692f7e3a492",
        "colab": {
          "base_uri": "https://localhost:8080/",
          "height": 347
        }
      },
      "cell_type": "code",
      "source": [
        "# printing out the first 10 items in a sequence\n",
        "print('x\\n', x[:10, :10])\n",
        "print('\\ny\\n', y[:10, :10])"
      ],
      "execution_count": 13,
      "outputs": [
        {
          "output_type": "stream",
          "text": [
            "x\n",
            " [[40 71 46 82 52 78  5  0  8 45]\n",
            " [31 17 64  0 52 71 46 52  0 46]\n",
            " [78 64 74  0 17  5  0 46  0 21]\n",
            " [31  0 52 71 78  0  9 71 30 78]\n",
            " [ 0 31 46 43  0 71 78  5  0 52]\n",
            " [ 9 51 31 31 30 17 64  0 46 64]\n",
            " [ 0 79 64 64 46  0 71 46 74  0]\n",
            " [11 32 53 17 64 31  3 76 77  0]]\n",
            "\n",
            "y\n",
            " [[71 46 82 52 78  5  0  8 45 45]\n",
            " [17 64  0 52 71 46 52  0 46 52]\n",
            " [64 74  0 17  5  0 46  0 21 17]\n",
            " [ 0 52 71 78  0  9 71 30 78 21]\n",
            " [31 46 43  0 71 78  5  0 52 78]\n",
            " [51 31 31 30 17 64  0 46 64 74]\n",
            " [79 64 64 46  0 71 46 74  0 31]\n",
            " [32 53 17 64 31  3 76 77  0 59]]\n"
          ],
          "name": "stdout"
        }
      ]
    },
    {
      "metadata": {
        "id": "T3bgfS9HUHOr",
        "colab_type": "text"
      },
      "cell_type": "markdown",
      "source": [
        "If you implemented `get_batches` correctly, the above output should look something like \n",
        "```\n",
        "x\n",
        " [[25  8 60 11 45 27 28 73  1  2]\n",
        " [17  7 20 73 45  8 60 45 73 60]\n",
        " [27 20 80 73  7 28 73 60 73 65]\n",
        " [17 73 45  8 27 73 66  8 46 27]\n",
        " [73 17 60 12 73  8 27 28 73 45]\n",
        " [66 64 17 17 46  7 20 73 60 20]\n",
        " [73 76 20 20 60 73  8 60 80 73]\n",
        " [47 35 43  7 20 17 24 50 37 73]]\n",
        "\n",
        "y\n",
        " [[ 8 60 11 45 27 28 73  1  2  2]\n",
        " [ 7 20 73 45  8 60 45 73 60 45]\n",
        " [20 80 73  7 28 73 60 73 65  7]\n",
        " [73 45  8 27 73 66  8 46 27 65]\n",
        " [17 60 12 73  8 27 28 73 45 27]\n",
        " [64 17 17 46  7 20 73 60 20 80]\n",
        " [76 20 20 60 73  8 60 80 73 17]\n",
        " [35 43  7 20 17 24 50 37 73 36]]\n",
        " ```\n",
        " although the exact numbers may be different. Check to make sure the data is shifted over one step for `y`."
      ]
    },
    {
      "metadata": {
        "id": "UngduiW2UHO0",
        "colab_type": "text"
      },
      "cell_type": "markdown",
      "source": [
        "---\n",
        "## Defining the network with PyTorch\n",
        "\n",
        "Below is where you'll define the network.\n",
        "\n",
        "<img src=\"https://github.com/udacity/deep-learning-v2-pytorch/blob/master/recurrent-neural-networks/char-rnn/assets/charRNN.png?raw=1\" width=500px>\n",
        "\n",
        "Next, you'll use PyTorch to define the architecture of the network. We start by defining the layers and operations we want. Then, define a method for the forward pass. You've also been given a method for predicting characters."
      ]
    },
    {
      "metadata": {
        "id": "NLgSd8QoUHO5",
        "colab_type": "text"
      },
      "cell_type": "markdown",
      "source": [
        "### Model Structure\n",
        "\n",
        "In `__init__` the suggested structure is as follows:\n",
        "* Create and store the necessary dictionaries (this has been done for you)\n",
        "* Define an LSTM layer that takes as params: an input size (the number of characters), a hidden layer size `n_hidden`, a number of layers `n_layers`, a dropout probability `drop_prob`, and a batch_first boolean (True, since we are batching)\n",
        "* Define a dropout layer with `dropout_prob`\n",
        "* Define a fully-connected layer with params: input size `n_hidden` and output size (the number of characters)\n",
        "* Finally, initialize the weights (again, this has been given)\n",
        "\n",
        "Note that some parameters have been named and given in the `__init__` function, and we use them and store them by doing something like `self.drop_prob = drop_prob`."
      ]
    },
    {
      "metadata": {
        "id": "yHBge2bAUHPA",
        "colab_type": "text"
      },
      "cell_type": "markdown",
      "source": [
        "---\n",
        "### LSTM Inputs/Outputs\n",
        "\n",
        "You can create a basic [LSTM layer](https://pytorch.org/docs/stable/nn.html#lstm) as follows\n",
        "\n",
        "```python\n",
        "self.lstm = nn.LSTM(input_size, n_hidden, n_layers, \n",
        "                            dropout=drop_prob, batch_first=True)\n",
        "```\n",
        "\n",
        "where `input_size` is the number of characters this cell expects to see as sequential input, and `n_hidden` is the number of units in the hidden layers in the cell. And we can add dropout by adding a dropout parameter with a specified probability; this will automatically add dropout to the inputs or outputs. Finally, in the `forward` function, we can stack up the LSTM cells into layers using `.view`. With this, you pass in a list of cells and it will send the output of one cell into the next cell.\n",
        "\n",
        "We also need to create an initial hidden state of all zeros. This is done like so\n",
        "\n",
        "```python\n",
        "self.init_hidden()\n",
        "```"
      ]
    },
    {
      "metadata": {
        "id": "xDz5kDEHUHPH",
        "colab_type": "code",
        "outputId": "37fe2e79-cd51-47a9-9ce2-181647674e4e",
        "colab": {
          "base_uri": "https://localhost:8080/",
          "height": 34
        }
      },
      "cell_type": "code",
      "source": [
        "# check if GPU is available\n",
        "train_on_gpu = torch.cuda.is_available()\n",
        "if(train_on_gpu):\n",
        "    print('Training on GPU!')\n",
        "else: \n",
        "    print('No GPU available, training on CPU; consider making n_epochs very small.')"
      ],
      "execution_count": 14,
      "outputs": [
        {
          "output_type": "stream",
          "text": [
            "Training on GPU!\n"
          ],
          "name": "stdout"
        }
      ]
    },
    {
      "metadata": {
        "id": "rIP-rK3DUHPS",
        "colab_type": "code",
        "colab": {}
      },
      "cell_type": "code",
      "source": [
        "class CharRNN(nn.Module):\n",
        "    \n",
        "    def __init__(self, tokens, n_hidden=256, n_layers=2,\n",
        "                               drop_prob=0.5, lr=0.001):\n",
        "        super().__init__()\n",
        "        self.drop_prob = drop_prob\n",
        "        self.n_layers = n_layers\n",
        "        self.n_hidden = n_hidden\n",
        "        self.lr = lr\n",
        "        \n",
        "        # creating character dictionaries\n",
        "        self.chars = tokens\n",
        "        self.int2char = dict(enumerate(self.chars))\n",
        "        self.char2int = {ch: ii for ii, ch in self.int2char.items()}\n",
        "        \n",
        "        ## TODO: define the layers of the model\n",
        "        self.lstm = nn.LSTM(len(self.chars), n_hidden, n_layers, \n",
        "                            dropout=drop_prob, batch_first=True)\n",
        "        \n",
        "        self.drop = nn.Dropout(p=drop_prob)\n",
        "        \n",
        "        self.fc = nn.Linear(n_hidden,len(self.chars))\n",
        "      \n",
        "    \n",
        "    def forward(self, x, hidden):\n",
        "        ''' Forward pass through the network. \n",
        "            These inputs are x, and the hidden/cell state `hidden`. '''\n",
        "                \n",
        "        ## TODO: Get the outputs and the new hidden state from the lstm\n",
        "        r_output, hidden = self.lstm(x,hidden)\n",
        "        \n",
        "        out = self.drop(r_output)\n",
        "        \n",
        "        out = out.contiguous().view(-1, self.n_hidden)\n",
        "        \n",
        "        out = self.fc(out)\n",
        "        \n",
        "        \n",
        "        # return the final output and the hidden state\n",
        "        return out, hidden\n",
        "    \n",
        "    \n",
        "    def init_hidden(self, batch_size):\n",
        "        ''' Initializes hidden state '''\n",
        "        # Create two new tensors with sizes n_layers x batch_size x n_hidden,\n",
        "        # initialized to zero, for hidden state and cell state of LSTM\n",
        "        weight = next(self.parameters()).data\n",
        "        \n",
        "        if (train_on_gpu):\n",
        "            hidden = (weight.new(self.n_layers, batch_size, self.n_hidden).zero_().cuda(),\n",
        "                  weight.new(self.n_layers, batch_size, self.n_hidden).zero_().cuda())\n",
        "        else:\n",
        "            hidden = (weight.new(self.n_layers, batch_size, self.n_hidden).zero_(),\n",
        "                      weight.new(self.n_layers, batch_size, self.n_hidden).zero_())\n",
        "        \n",
        "        return hidden\n",
        "        "
      ],
      "execution_count": 0,
      "outputs": []
    },
    {
      "metadata": {
        "id": "F2bZVp1HUHPw",
        "colab_type": "text"
      },
      "cell_type": "markdown",
      "source": [
        "## Time to train\n",
        "\n",
        "The train function gives us the ability to set the number of epochs, the learning rate, and other parameters.\n",
        "\n",
        "Below we're using an Adam optimizer and cross entropy loss since we are looking at character class scores as output. We calculate the loss and perform backpropagation, as usual!\n",
        "\n",
        "A couple of details about training: \n",
        ">* Within the batch loop, we detach the hidden state from its history; this time setting it equal to a new *tuple* variable because an LSTM has a hidden state that is a tuple of the hidden and cell states.\n",
        "* We use [`clip_grad_norm_`](https://pytorch.org/docs/stable/_modules/torch/nn/utils/clip_grad.html) to help prevent exploding gradients."
      ]
    },
    {
      "metadata": {
        "id": "4zMMJYjEUHQB",
        "colab_type": "code",
        "colab": {}
      },
      "cell_type": "code",
      "source": [
        "def train(net, data, epochs=10, batch_size=10, seq_length=50, lr=0.001, clip=5, val_frac=0.1, print_every=10):\n",
        "    ''' Training a network \n",
        "    \n",
        "        Arguments\n",
        "        ---------\n",
        "        \n",
        "        net: CharRNN network\n",
        "        data: text data to train the network\n",
        "        epochs: Number of epochs to train\n",
        "        batch_size: Number of mini-sequences per mini-batch, aka batch size\n",
        "        seq_length: Number of character steps per mini-batch\n",
        "        lr: learning rate\n",
        "        clip: gradient clipping\n",
        "        val_frac: Fraction of data to hold out for validation\n",
        "        print_every: Number of steps for printing training and validation loss\n",
        "    \n",
        "    '''\n",
        "    net.train()\n",
        "    \n",
        "    opt = torch.optim.Adam(net.parameters(), lr=lr)\n",
        "    criterion = nn.CrossEntropyLoss()\n",
        "    \n",
        "    # create training and validation data\n",
        "    val_idx = int(len(data)*(1-val_frac))\n",
        "    data, val_data = data[:val_idx], data[val_idx:]\n",
        "    \n",
        "    if(train_on_gpu):\n",
        "        net.cuda()\n",
        "    \n",
        "    counter = 0\n",
        "    n_chars = len(net.chars)\n",
        "    for e in range(epochs):\n",
        "        # initialize hidden state\n",
        "        h = net.init_hidden(batch_size)\n",
        "        \n",
        "        for x, y in get_batches(data, batch_size, seq_length):\n",
        "            counter += 1\n",
        "            \n",
        "            # One-hot encode our data and make them Torch tensors\n",
        "            x = one_hot_encode(x, n_chars)\n",
        "            inputs, targets = torch.from_numpy(x), torch.from_numpy(y)\n",
        "            \n",
        "            if(train_on_gpu):\n",
        "                inputs, targets = inputs.cuda(), targets.cuda()\n",
        "\n",
        "            # Creating new variables for the hidden state, otherwise\n",
        "            # we'd backprop through the entire training history\n",
        "            h = tuple([each.data for each in h])\n",
        "\n",
        "            # zero accumulated gradients\n",
        "            net.zero_grad()\n",
        "            \n",
        "            # get the output from the model\n",
        "            output, h = net(inputs, h)\n",
        "            \n",
        "            # calculate the loss and perform backprop\n",
        "            loss = criterion(output, targets.view(batch_size*seq_length))\n",
        "            loss.backward()\n",
        "            # `clip_grad_norm` helps prevent the exploding gradient problem in RNNs / LSTMs.\n",
        "            nn.utils.clip_grad_norm_(net.parameters(), clip)\n",
        "            opt.step()\n",
        "            \n",
        "            # loss stats\n",
        "            if counter % print_every == 0:\n",
        "                # Get validation loss\n",
        "                val_h = net.init_hidden(batch_size)\n",
        "                val_losses = []\n",
        "                net.eval()\n",
        "                for x, y in get_batches(val_data, batch_size, seq_length):\n",
        "                    # One-hot encode our data and make them Torch tensors\n",
        "                    x = one_hot_encode(x, n_chars)\n",
        "                    x, y = torch.from_numpy(x), torch.from_numpy(y)\n",
        "                    \n",
        "                    # Creating new variables for the hidden state, otherwise\n",
        "                    # we'd backprop through the entire training history\n",
        "                    val_h = tuple([each.data for each in val_h])\n",
        "                    \n",
        "                    inputs, targets = x, y\n",
        "                    if(train_on_gpu):\n",
        "                        inputs, targets = inputs.cuda(), targets.cuda()\n",
        "\n",
        "                    output, val_h = net(inputs, val_h)\n",
        "                    val_loss = criterion(output, targets.view(batch_size*seq_length))\n",
        "                \n",
        "                    val_losses.append(val_loss.item())\n",
        "                \n",
        "                net.train() # reset to train mode after iterationg through validation data\n",
        "                \n",
        "                print(\"Epoch: {}/{}...\".format(e+1, epochs),\n",
        "                      \"Step: {}...\".format(counter),\n",
        "                      \"Loss: {:.4f}...\".format(loss.item()),\n",
        "                      \"Val Loss: {:.4f}\".format(np.mean(val_losses)))"
      ],
      "execution_count": 0,
      "outputs": []
    },
    {
      "metadata": {
        "id": "lM9VKXDuUHQT",
        "colab_type": "text"
      },
      "cell_type": "markdown",
      "source": [
        "## Instantiating the model\n",
        "\n",
        "Now we can actually train the network. First we'll create the network itself, with some given hyperparameters. Then, define the mini-batches sizes, and start training!"
      ]
    },
    {
      "metadata": {
        "id": "7tWD0SlGUHQa",
        "colab_type": "code",
        "outputId": "491e2336-06d0-49a9-d4d9-699219268b99",
        "colab": {
          "base_uri": "https://localhost:8080/",
          "height": 104
        }
      },
      "cell_type": "code",
      "source": [
        "## TODO: set you model hyperparameters\n",
        "# define and print the net\n",
        "n_hidden= 512\n",
        "n_layers= 2\n",
        "\n",
        "net = CharRNN(chars, n_hidden, n_layers)\n",
        "print(net)"
      ],
      "execution_count": 27,
      "outputs": [
        {
          "output_type": "stream",
          "text": [
            "CharRNN(\n",
            "  (lstm): LSTM(83, 512, num_layers=2, batch_first=True, dropout=0.5)\n",
            "  (drop): Dropout(p=0.5)\n",
            "  (fc): Linear(in_features=512, out_features=83, bias=True)\n",
            ")\n"
          ],
          "name": "stdout"
        }
      ]
    },
    {
      "metadata": {
        "id": "AWrjtjy7UHQp",
        "colab_type": "text"
      },
      "cell_type": "markdown",
      "source": [
        "### Set your training hyperparameters!"
      ]
    },
    {
      "metadata": {
        "scrolled": true,
        "id": "rzSRl0cwUHRF",
        "colab_type": "code",
        "outputId": "c367c975-719e-4e85-c2c2-cd7bfa1ec9f5",
        "colab": {
          "base_uri": "https://localhost:8080/",
          "height": 4845
        }
      },
      "cell_type": "code",
      "source": [
        "batch_size = 128\n",
        "seq_length = 100\n",
        "n_epochs =  20 # start small if you are just testing initial behavior\n",
        "\n",
        "# train the model\n",
        "train(net, encoded, epochs=n_epochs, batch_size=batch_size, seq_length=seq_length, lr=0.001, print_every=10)"
      ],
      "execution_count": 28,
      "outputs": [
        {
          "output_type": "stream",
          "text": [
            "Epoch: 1/20... Step: 10... Loss: 3.2321... Val Loss: 3.1772\n",
            "Epoch: 1/20... Step: 20... Loss: 3.1332... Val Loss: 3.1301\n",
            "Epoch: 1/20... Step: 30... Loss: 3.1354... Val Loss: 3.1211\n",
            "Epoch: 1/20... Step: 40... Loss: 3.1106... Val Loss: 3.1192\n",
            "Epoch: 1/20... Step: 50... Loss: 3.1400... Val Loss: 3.1167\n",
            "Epoch: 1/20... Step: 60... Loss: 3.1121... Val Loss: 3.1140\n",
            "Epoch: 1/20... Step: 70... Loss: 3.1011... Val Loss: 3.1099\n",
            "Epoch: 1/20... Step: 80... Loss: 3.1122... Val Loss: 3.0976\n",
            "Epoch: 1/20... Step: 90... Loss: 3.0983... Val Loss: 3.0779\n",
            "Epoch: 1/20... Step: 100... Loss: 3.0323... Val Loss: 3.0096\n",
            "Epoch: 1/20... Step: 110... Loss: 2.9517... Val Loss: 2.9187\n",
            "Epoch: 1/20... Step: 120... Loss: 2.8077... Val Loss: 2.8037\n",
            "Epoch: 1/20... Step: 130... Loss: 2.7184... Val Loss: 2.6881\n",
            "Epoch: 2/20... Step: 140... Loss: 2.6227... Val Loss: 2.5660\n",
            "Epoch: 2/20... Step: 150... Loss: 2.5461... Val Loss: 2.4921\n",
            "Epoch: 2/20... Step: 160... Loss: 2.4967... Val Loss: 2.4510\n",
            "Epoch: 2/20... Step: 170... Loss: 2.4356... Val Loss: 2.4096\n",
            "Epoch: 2/20... Step: 180... Loss: 2.4064... Val Loss: 2.3775\n",
            "Epoch: 2/20... Step: 190... Loss: 2.3461... Val Loss: 2.3416\n",
            "Epoch: 2/20... Step: 200... Loss: 2.3416... Val Loss: 2.3111\n",
            "Epoch: 2/20... Step: 210... Loss: 2.3030... Val Loss: 2.2790\n",
            "Epoch: 2/20... Step: 220... Loss: 2.2740... Val Loss: 2.2501\n",
            "Epoch: 2/20... Step: 230... Loss: 2.2711... Val Loss: 2.2391\n",
            "Epoch: 2/20... Step: 240... Loss: 2.2429... Val Loss: 2.2035\n",
            "Epoch: 2/20... Step: 250... Loss: 2.1741... Val Loss: 2.1782\n",
            "Epoch: 2/20... Step: 260... Loss: 2.1493... Val Loss: 2.1540\n",
            "Epoch: 2/20... Step: 270... Loss: 2.1589... Val Loss: 2.1321\n",
            "Epoch: 3/20... Step: 280... Loss: 2.1550... Val Loss: 2.1115\n",
            "Epoch: 3/20... Step: 290... Loss: 2.1254... Val Loss: 2.0870\n",
            "Epoch: 3/20... Step: 300... Loss: 2.0974... Val Loss: 2.0661\n",
            "Epoch: 3/20... Step: 310... Loss: 2.0670... Val Loss: 2.0505\n",
            "Epoch: 3/20... Step: 320... Loss: 2.0418... Val Loss: 2.0281\n",
            "Epoch: 3/20... Step: 330... Loss: 2.0194... Val Loss: 2.0208\n",
            "Epoch: 3/20... Step: 340... Loss: 2.0403... Val Loss: 1.9952\n",
            "Epoch: 3/20... Step: 350... Loss: 2.0143... Val Loss: 1.9808\n",
            "Epoch: 3/20... Step: 360... Loss: 1.9460... Val Loss: 1.9560\n",
            "Epoch: 3/20... Step: 370... Loss: 1.9800... Val Loss: 1.9398\n",
            "Epoch: 3/20... Step: 380... Loss: 1.9518... Val Loss: 1.9280\n",
            "Epoch: 3/20... Step: 390... Loss: 1.9224... Val Loss: 1.9126\n",
            "Epoch: 3/20... Step: 400... Loss: 1.8951... Val Loss: 1.8937\n",
            "Epoch: 3/20... Step: 410... Loss: 1.9133... Val Loss: 1.8813\n",
            "Epoch: 4/20... Step: 420... Loss: 1.8968... Val Loss: 1.8645\n",
            "Epoch: 4/20... Step: 430... Loss: 1.8895... Val Loss: 1.8529\n",
            "Epoch: 4/20... Step: 440... Loss: 1.8672... Val Loss: 1.8439\n",
            "Epoch: 4/20... Step: 450... Loss: 1.8100... Val Loss: 1.8263\n",
            "Epoch: 4/20... Step: 460... Loss: 1.8002... Val Loss: 1.8199\n",
            "Epoch: 4/20... Step: 470... Loss: 1.8379... Val Loss: 1.8102\n",
            "Epoch: 4/20... Step: 480... Loss: 1.8196... Val Loss: 1.7951\n",
            "Epoch: 4/20... Step: 490... Loss: 1.8205... Val Loss: 1.7844\n",
            "Epoch: 4/20... Step: 500... Loss: 1.8127... Val Loss: 1.7749\n",
            "Epoch: 4/20... Step: 510... Loss: 1.7961... Val Loss: 1.7620\n",
            "Epoch: 4/20... Step: 520... Loss: 1.8022... Val Loss: 1.7530\n",
            "Epoch: 4/20... Step: 530... Loss: 1.7560... Val Loss: 1.7460\n",
            "Epoch: 4/20... Step: 540... Loss: 1.7200... Val Loss: 1.7358\n",
            "Epoch: 4/20... Step: 550... Loss: 1.7691... Val Loss: 1.7213\n",
            "Epoch: 5/20... Step: 560... Loss: 1.7413... Val Loss: 1.7135\n",
            "Epoch: 5/20... Step: 570... Loss: 1.7267... Val Loss: 1.7031\n",
            "Epoch: 5/20... Step: 580... Loss: 1.7027... Val Loss: 1.6986\n",
            "Epoch: 5/20... Step: 590... Loss: 1.7020... Val Loss: 1.6887\n",
            "Epoch: 5/20... Step: 600... Loss: 1.6981... Val Loss: 1.6835\n",
            "Epoch: 5/20... Step: 610... Loss: 1.6752... Val Loss: 1.6754\n",
            "Epoch: 5/20... Step: 620... Loss: 1.6896... Val Loss: 1.6697\n",
            "Epoch: 5/20... Step: 630... Loss: 1.6945... Val Loss: 1.6643\n",
            "Epoch: 5/20... Step: 640... Loss: 1.6664... Val Loss: 1.6539\n",
            "Epoch: 5/20... Step: 650... Loss: 1.6496... Val Loss: 1.6496\n",
            "Epoch: 5/20... Step: 660... Loss: 1.6281... Val Loss: 1.6406\n",
            "Epoch: 5/20... Step: 670... Loss: 1.6532... Val Loss: 1.6381\n",
            "Epoch: 5/20... Step: 680... Loss: 1.6532... Val Loss: 1.6304\n",
            "Epoch: 5/20... Step: 690... Loss: 1.6335... Val Loss: 1.6206\n",
            "Epoch: 6/20... Step: 700... Loss: 1.6402... Val Loss: 1.6154\n",
            "Epoch: 6/20... Step: 710... Loss: 1.6240... Val Loss: 1.6140\n",
            "Epoch: 6/20... Step: 720... Loss: 1.6063... Val Loss: 1.6038\n",
            "Epoch: 6/20... Step: 730... Loss: 1.6206... Val Loss: 1.6008\n",
            "Epoch: 6/20... Step: 740... Loss: 1.5864... Val Loss: 1.5975\n",
            "Epoch: 6/20... Step: 750... Loss: 1.5664... Val Loss: 1.5926\n",
            "Epoch: 6/20... Step: 760... Loss: 1.6173... Val Loss: 1.5854\n",
            "Epoch: 6/20... Step: 770... Loss: 1.5935... Val Loss: 1.5833\n",
            "Epoch: 6/20... Step: 780... Loss: 1.5797... Val Loss: 1.5727\n",
            "Epoch: 6/20... Step: 790... Loss: 1.5626... Val Loss: 1.5728\n",
            "Epoch: 6/20... Step: 800... Loss: 1.5844... Val Loss: 1.5660\n",
            "Epoch: 6/20... Step: 810... Loss: 1.5668... Val Loss: 1.5621\n",
            "Epoch: 6/20... Step: 820... Loss: 1.5304... Val Loss: 1.5626\n",
            "Epoch: 6/20... Step: 830... Loss: 1.5782... Val Loss: 1.5517\n",
            "Epoch: 7/20... Step: 840... Loss: 1.5315... Val Loss: 1.5476\n",
            "Epoch: 7/20... Step: 850... Loss: 1.5510... Val Loss: 1.5471\n",
            "Epoch: 7/20... Step: 860... Loss: 1.5277... Val Loss: 1.5371\n",
            "Epoch: 7/20... Step: 870... Loss: 1.5450... Val Loss: 1.5380\n",
            "Epoch: 7/20... Step: 880... Loss: 1.5392... Val Loss: 1.5348\n",
            "Epoch: 7/20... Step: 890... Loss: 1.5358... Val Loss: 1.5339\n",
            "Epoch: 7/20... Step: 900... Loss: 1.5239... Val Loss: 1.5250\n",
            "Epoch: 7/20... Step: 910... Loss: 1.4944... Val Loss: 1.5229\n",
            "Epoch: 7/20... Step: 920... Loss: 1.5157... Val Loss: 1.5161\n",
            "Epoch: 7/20... Step: 930... Loss: 1.5012... Val Loss: 1.5138\n",
            "Epoch: 7/20... Step: 940... Loss: 1.5081... Val Loss: 1.5127\n",
            "Epoch: 7/20... Step: 950... Loss: 1.5141... Val Loss: 1.5053\n",
            "Epoch: 7/20... Step: 960... Loss: 1.5146... Val Loss: 1.5026\n",
            "Epoch: 7/20... Step: 970... Loss: 1.5251... Val Loss: 1.5001\n",
            "Epoch: 8/20... Step: 980... Loss: 1.4938... Val Loss: 1.4998\n",
            "Epoch: 8/20... Step: 990... Loss: 1.5000... Val Loss: 1.4955\n",
            "Epoch: 8/20... Step: 1000... Loss: 1.4841... Val Loss: 1.4896\n",
            "Epoch: 8/20... Step: 1010... Loss: 1.5270... Val Loss: 1.4899\n",
            "Epoch: 8/20... Step: 1020... Loss: 1.4979... Val Loss: 1.4875\n",
            "Epoch: 8/20... Step: 1030... Loss: 1.4716... Val Loss: 1.4852\n",
            "Epoch: 8/20... Step: 1040... Loss: 1.4884... Val Loss: 1.4812\n",
            "Epoch: 8/20... Step: 1050... Loss: 1.4673... Val Loss: 1.4787\n",
            "Epoch: 8/20... Step: 1060... Loss: 1.4692... Val Loss: 1.4747\n",
            "Epoch: 8/20... Step: 1070... Loss: 1.4703... Val Loss: 1.4720\n",
            "Epoch: 8/20... Step: 1080... Loss: 1.4566... Val Loss: 1.4697\n",
            "Epoch: 8/20... Step: 1090... Loss: 1.4545... Val Loss: 1.4645\n",
            "Epoch: 8/20... Step: 1100... Loss: 1.4436... Val Loss: 1.4599\n",
            "Epoch: 8/20... Step: 1110... Loss: 1.4580... Val Loss: 1.4591\n",
            "Epoch: 9/20... Step: 1120... Loss: 1.4626... Val Loss: 1.4605\n",
            "Epoch: 9/20... Step: 1130... Loss: 1.4536... Val Loss: 1.4555\n",
            "Epoch: 9/20... Step: 1140... Loss: 1.4657... Val Loss: 1.4517\n",
            "Epoch: 9/20... Step: 1150... Loss: 1.4746... Val Loss: 1.4514\n",
            "Epoch: 9/20... Step: 1160... Loss: 1.4285... Val Loss: 1.4483\n",
            "Epoch: 9/20... Step: 1170... Loss: 1.4431... Val Loss: 1.4458\n",
            "Epoch: 9/20... Step: 1180... Loss: 1.4354... Val Loss: 1.4446\n",
            "Epoch: 9/20... Step: 1190... Loss: 1.4630... Val Loss: 1.4411\n",
            "Epoch: 9/20... Step: 1200... Loss: 1.4043... Val Loss: 1.4378\n",
            "Epoch: 9/20... Step: 1210... Loss: 1.4226... Val Loss: 1.4372\n",
            "Epoch: 9/20... Step: 1220... Loss: 1.4264... Val Loss: 1.4354\n",
            "Epoch: 9/20... Step: 1230... Loss: 1.4123... Val Loss: 1.4349\n",
            "Epoch: 9/20... Step: 1240... Loss: 1.4157... Val Loss: 1.4315\n",
            "Epoch: 9/20... Step: 1250... Loss: 1.4253... Val Loss: 1.4290\n",
            "Epoch: 10/20... Step: 1260... Loss: 1.4195... Val Loss: 1.4298\n",
            "Epoch: 10/20... Step: 1270... Loss: 1.4175... Val Loss: 1.4265\n",
            "Epoch: 10/20... Step: 1280... Loss: 1.4284... Val Loss: 1.4211\n",
            "Epoch: 10/20... Step: 1290... Loss: 1.4174... Val Loss: 1.4212\n",
            "Epoch: 10/20... Step: 1300... Loss: 1.4057... Val Loss: 1.4200\n",
            "Epoch: 10/20... Step: 1310... Loss: 1.4175... Val Loss: 1.4172\n",
            "Epoch: 10/20... Step: 1320... Loss: 1.3852... Val Loss: 1.4196\n",
            "Epoch: 10/20... Step: 1330... Loss: 1.3907... Val Loss: 1.4152\n",
            "Epoch: 10/20... Step: 1340... Loss: 1.3803... Val Loss: 1.4119\n",
            "Epoch: 10/20... Step: 1350... Loss: 1.3750... Val Loss: 1.4095\n",
            "Epoch: 10/20... Step: 1360... Loss: 1.3789... Val Loss: 1.4119\n",
            "Epoch: 10/20... Step: 1370... Loss: 1.3731... Val Loss: 1.4086\n",
            "Epoch: 10/20... Step: 1380... Loss: 1.4109... Val Loss: 1.4038\n",
            "Epoch: 10/20... Step: 1390... Loss: 1.4145... Val Loss: 1.4046\n",
            "Epoch: 11/20... Step: 1400... Loss: 1.4192... Val Loss: 1.4024\n",
            "Epoch: 11/20... Step: 1410... Loss: 1.4261... Val Loss: 1.4024\n",
            "Epoch: 11/20... Step: 1420... Loss: 1.4179... Val Loss: 1.3999\n",
            "Epoch: 11/20... Step: 1430... Loss: 1.3813... Val Loss: 1.4017\n",
            "Epoch: 11/20... Step: 1440... Loss: 1.4115... Val Loss: 1.3955\n",
            "Epoch: 11/20... Step: 1450... Loss: 1.3381... Val Loss: 1.3957\n",
            "Epoch: 11/20... Step: 1460... Loss: 1.3689... Val Loss: 1.3931\n",
            "Epoch: 11/20... Step: 1470... Loss: 1.3625... Val Loss: 1.3933\n",
            "Epoch: 11/20... Step: 1480... Loss: 1.3694... Val Loss: 1.3906\n",
            "Epoch: 11/20... Step: 1490... Loss: 1.3673... Val Loss: 1.3870\n",
            "Epoch: 11/20... Step: 1500... Loss: 1.3552... Val Loss: 1.3926\n",
            "Epoch: 11/20... Step: 1510... Loss: 1.3397... Val Loss: 1.3873\n",
            "Epoch: 11/20... Step: 1520... Loss: 1.3696... Val Loss: 1.3832\n",
            "Epoch: 12/20... Step: 1530... Loss: 1.4300... Val Loss: 1.3828\n",
            "Epoch: 12/20... Step: 1540... Loss: 1.3840... Val Loss: 1.3839\n",
            "Epoch: 12/20... Step: 1550... Loss: 1.3893... Val Loss: 1.3807\n",
            "Epoch: 12/20... Step: 1560... Loss: 1.3994... Val Loss: 1.3764\n",
            "Epoch: 12/20... Step: 1570... Loss: 1.3449... Val Loss: 1.3825\n",
            "Epoch: 12/20... Step: 1580... Loss: 1.3173... Val Loss: 1.3767\n",
            "Epoch: 12/20... Step: 1590... Loss: 1.3202... Val Loss: 1.3798\n",
            "Epoch: 12/20... Step: 1600... Loss: 1.3370... Val Loss: 1.3776\n",
            "Epoch: 12/20... Step: 1610... Loss: 1.3374... Val Loss: 1.3771\n",
            "Epoch: 12/20... Step: 1620... Loss: 1.3371... Val Loss: 1.3726\n",
            "Epoch: 12/20... Step: 1630... Loss: 1.3611... Val Loss: 1.3709\n",
            "Epoch: 12/20... Step: 1640... Loss: 1.3357... Val Loss: 1.3715\n",
            "Epoch: 12/20... Step: 1650... Loss: 1.3132... Val Loss: 1.3691\n",
            "Epoch: 12/20... Step: 1660... Loss: 1.3653... Val Loss: 1.3639\n",
            "Epoch: 13/20... Step: 1670... Loss: 1.3335... Val Loss: 1.3690\n",
            "Epoch: 13/20... Step: 1680... Loss: 1.3369... Val Loss: 1.3667\n",
            "Epoch: 13/20... Step: 1690... Loss: 1.3178... Val Loss: 1.3640\n",
            "Epoch: 13/20... Step: 1700... Loss: 1.3297... Val Loss: 1.3633\n",
            "Epoch: 13/20... Step: 1710... Loss: 1.3047... Val Loss: 1.3649\n",
            "Epoch: 13/20... Step: 1720... Loss: 1.3165... Val Loss: 1.3622\n",
            "Epoch: 13/20... Step: 1730... Loss: 1.3548... Val Loss: 1.3620\n",
            "Epoch: 13/20... Step: 1740... Loss: 1.3206... Val Loss: 1.3591\n",
            "Epoch: 13/20... Step: 1750... Loss: 1.2865... Val Loss: 1.3608\n",
            "Epoch: 13/20... Step: 1760... Loss: 1.3095... Val Loss: 1.3560\n",
            "Epoch: 13/20... Step: 1770... Loss: 1.3446... Val Loss: 1.3581\n",
            "Epoch: 13/20... Step: 1780... Loss: 1.3106... Val Loss: 1.3562\n",
            "Epoch: 13/20... Step: 1790... Loss: 1.3031... Val Loss: 1.3552\n",
            "Epoch: 13/20... Step: 1800... Loss: 1.3276... Val Loss: 1.3512\n",
            "Epoch: 14/20... Step: 1810... Loss: 1.3218... Val Loss: 1.3582\n",
            "Epoch: 14/20... Step: 1820... Loss: 1.3155... Val Loss: 1.3548\n",
            "Epoch: 14/20... Step: 1830... Loss: 1.3379... Val Loss: 1.3501\n",
            "Epoch: 14/20... Step: 1840... Loss: 1.2773... Val Loss: 1.3461\n",
            "Epoch: 14/20... Step: 1850... Loss: 1.2664... Val Loss: 1.3486\n",
            "Epoch: 14/20... Step: 1860... Loss: 1.3180... Val Loss: 1.3465\n",
            "Epoch: 14/20... Step: 1870... Loss: 1.3327... Val Loss: 1.3439\n",
            "Epoch: 14/20... Step: 1880... Loss: 1.3151... Val Loss: 1.3475\n",
            "Epoch: 14/20... Step: 1890... Loss: 1.3325... Val Loss: 1.3464\n",
            "Epoch: 14/20... Step: 1900... Loss: 1.3121... Val Loss: 1.3438\n",
            "Epoch: 14/20... Step: 1910... Loss: 1.3102... Val Loss: 1.3445\n",
            "Epoch: 14/20... Step: 1920... Loss: 1.2909... Val Loss: 1.3424\n",
            "Epoch: 14/20... Step: 1930... Loss: 1.2633... Val Loss: 1.3435\n",
            "Epoch: 14/20... Step: 1940... Loss: 1.3220... Val Loss: 1.3374\n",
            "Epoch: 15/20... Step: 1950... Loss: 1.3005... Val Loss: 1.3469\n",
            "Epoch: 15/20... Step: 1960... Loss: 1.3055... Val Loss: 1.3396\n",
            "Epoch: 15/20... Step: 1970... Loss: 1.2890... Val Loss: 1.3370\n",
            "Epoch: 15/20... Step: 1980... Loss: 1.2752... Val Loss: 1.3389\n",
            "Epoch: 15/20... Step: 1990... Loss: 1.2855... Val Loss: 1.3374\n",
            "Epoch: 15/20... Step: 2000... Loss: 1.2756... Val Loss: 1.3321\n",
            "Epoch: 15/20... Step: 2010... Loss: 1.2944... Val Loss: 1.3329\n",
            "Epoch: 15/20... Step: 2020... Loss: 1.3076... Val Loss: 1.3329\n",
            "Epoch: 15/20... Step: 2030... Loss: 1.2713... Val Loss: 1.3347\n",
            "Epoch: 15/20... Step: 2040... Loss: 1.2904... Val Loss: 1.3326\n",
            "Epoch: 15/20... Step: 2050... Loss: 1.2759... Val Loss: 1.3293\n",
            "Epoch: 15/20... Step: 2060... Loss: 1.2759... Val Loss: 1.3278\n",
            "Epoch: 15/20... Step: 2070... Loss: 1.2986... Val Loss: 1.3271\n",
            "Epoch: 15/20... Step: 2080... Loss: 1.2837... Val Loss: 1.3274\n",
            "Epoch: 16/20... Step: 2090... Loss: 1.2935... Val Loss: 1.3245\n",
            "Epoch: 16/20... Step: 2100... Loss: 1.2792... Val Loss: 1.3253\n",
            "Epoch: 16/20... Step: 2110... Loss: 1.2639... Val Loss: 1.3241\n",
            "Epoch: 16/20... Step: 2120... Loss: 1.2865... Val Loss: 1.3236\n",
            "Epoch: 16/20... Step: 2130... Loss: 1.2526... Val Loss: 1.3231\n",
            "Epoch: 16/20... Step: 2140... Loss: 1.2637... Val Loss: 1.3172\n",
            "Epoch: 16/20... Step: 2150... Loss: 1.2918... Val Loss: 1.3161\n",
            "Epoch: 16/20... Step: 2160... Loss: 1.2682... Val Loss: 1.3206\n",
            "Epoch: 16/20... Step: 2170... Loss: 1.2753... Val Loss: 1.3174\n",
            "Epoch: 16/20... Step: 2180... Loss: 1.2653... Val Loss: 1.3119\n",
            "Epoch: 16/20... Step: 2190... Loss: 1.2817... Val Loss: 1.3117\n",
            "Epoch: 16/20... Step: 2200... Loss: 1.2539... Val Loss: 1.3136\n",
            "Epoch: 16/20... Step: 2210... Loss: 1.2220... Val Loss: 1.3100\n",
            "Epoch: 16/20... Step: 2220... Loss: 1.2660... Val Loss: 1.3115\n",
            "Epoch: 17/20... Step: 2230... Loss: 1.2436... Val Loss: 1.3123\n",
            "Epoch: 17/20... Step: 2240... Loss: 1.2590... Val Loss: 1.3097\n",
            "Epoch: 17/20... Step: 2250... Loss: 1.2409... Val Loss: 1.3105\n",
            "Epoch: 17/20... Step: 2260... Loss: 1.2532... Val Loss: 1.3081\n",
            "Epoch: 17/20... Step: 2270... Loss: 1.2603... Val Loss: 1.3063\n",
            "Epoch: 17/20... Step: 2280... Loss: 1.2600... Val Loss: 1.3030\n",
            "Epoch: 17/20... Step: 2290... Loss: 1.2608... Val Loss: 1.3044\n",
            "Epoch: 17/20... Step: 2300... Loss: 1.2329... Val Loss: 1.3089\n",
            "Epoch: 17/20... Step: 2310... Loss: 1.2454... Val Loss: 1.3029\n",
            "Epoch: 17/20... Step: 2320... Loss: 1.2377... Val Loss: 1.3009\n",
            "Epoch: 17/20... Step: 2330... Loss: 1.2331... Val Loss: 1.3010\n",
            "Epoch: 17/20... Step: 2340... Loss: 1.2513... Val Loss: 1.2995\n",
            "Epoch: 17/20... Step: 2350... Loss: 1.2550... Val Loss: 1.2977\n",
            "Epoch: 17/20... Step: 2360... Loss: 1.2614... Val Loss: 1.3036\n",
            "Epoch: 18/20... Step: 2370... Loss: 1.2390... Val Loss: 1.3009\n",
            "Epoch: 18/20... Step: 2380... Loss: 1.2369... Val Loss: 1.2946\n",
            "Epoch: 18/20... Step: 2390... Loss: 1.2351... Val Loss: 1.2979\n",
            "Epoch: 18/20... Step: 2400... Loss: 1.2604... Val Loss: 1.2977\n",
            "Epoch: 18/20... Step: 2410... Loss: 1.2535... Val Loss: 1.2949\n",
            "Epoch: 18/20... Step: 2420... Loss: 1.2330... Val Loss: 1.2905\n",
            "Epoch: 18/20... Step: 2430... Loss: 1.2617... Val Loss: 1.2891\n",
            "Epoch: 18/20... Step: 2440... Loss: 1.2283... Val Loss: 1.2934\n",
            "Epoch: 18/20... Step: 2450... Loss: 1.2224... Val Loss: 1.2897\n",
            "Epoch: 18/20... Step: 2460... Loss: 1.2378... Val Loss: 1.2892\n",
            "Epoch: 18/20... Step: 2470... Loss: 1.2272... Val Loss: 1.2954\n",
            "Epoch: 18/20... Step: 2480... Loss: 1.2230... Val Loss: 1.2907\n",
            "Epoch: 18/20... Step: 2490... Loss: 1.2138... Val Loss: 1.2884\n",
            "Epoch: 18/20... Step: 2500... Loss: 1.2070... Val Loss: 1.2914\n",
            "Epoch: 19/20... Step: 2510... Loss: 1.2333... Val Loss: 1.2840\n",
            "Epoch: 19/20... Step: 2520... Loss: 1.2311... Val Loss: 1.2836\n",
            "Epoch: 19/20... Step: 2530... Loss: 1.2430... Val Loss: 1.2874\n",
            "Epoch: 19/20... Step: 2540... Loss: 1.2573... Val Loss: 1.2867\n",
            "Epoch: 19/20... Step: 2550... Loss: 1.2294... Val Loss: 1.2872\n",
            "Epoch: 19/20... Step: 2560... Loss: 1.2247... Val Loss: 1.2805\n",
            "Epoch: 19/20... Step: 2570... Loss: 1.2184... Val Loss: 1.2856\n",
            "Epoch: 19/20... Step: 2580... Loss: 1.2536... Val Loss: 1.2886\n",
            "Epoch: 19/20... Step: 2590... Loss: 1.2096... Val Loss: 1.2832\n",
            "Epoch: 19/20... Step: 2600... Loss: 1.2100... Val Loss: 1.2774\n",
            "Epoch: 19/20... Step: 2610... Loss: 1.2174... Val Loss: 1.2798\n",
            "Epoch: 19/20... Step: 2620... Loss: 1.2024... Val Loss: 1.2828\n",
            "Epoch: 19/20... Step: 2630... Loss: 1.2055... Val Loss: 1.2759\n",
            "Epoch: 19/20... Step: 2640... Loss: 1.2164... Val Loss: 1.2830\n",
            "Epoch: 20/20... Step: 2650... Loss: 1.2169... Val Loss: 1.2799\n",
            "Epoch: 20/20... Step: 2660... Loss: 1.2223... Val Loss: 1.2763\n",
            "Epoch: 20/20... Step: 2670... Loss: 1.2315... Val Loss: 1.2790\n",
            "Epoch: 20/20... Step: 2680... Loss: 1.2283... Val Loss: 1.2764\n",
            "Epoch: 20/20... Step: 2690... Loss: 1.2159... Val Loss: 1.2744\n",
            "Epoch: 20/20... Step: 2700... Loss: 1.2282... Val Loss: 1.2724\n",
            "Epoch: 20/20... Step: 2710... Loss: 1.1929... Val Loss: 1.2749\n",
            "Epoch: 20/20... Step: 2720... Loss: 1.1884... Val Loss: 1.2799\n",
            "Epoch: 20/20... Step: 2730... Loss: 1.1886... Val Loss: 1.2773\n",
            "Epoch: 20/20... Step: 2740... Loss: 1.1827... Val Loss: 1.2749\n",
            "Epoch: 20/20... Step: 2750... Loss: 1.2058... Val Loss: 1.2780\n",
            "Epoch: 20/20... Step: 2760... Loss: 1.1952... Val Loss: 1.2739\n",
            "Epoch: 20/20... Step: 2770... Loss: 1.2260... Val Loss: 1.2717\n",
            "Epoch: 20/20... Step: 2780... Loss: 1.2498... Val Loss: 1.2699\n"
          ],
          "name": "stdout"
        }
      ]
    },
    {
      "metadata": {
        "id": "m5bDGaodUHRd",
        "colab_type": "text"
      },
      "cell_type": "markdown",
      "source": [
        "## Getting the best model\n",
        "\n",
        "To set your hyperparameters to get the best performance, you'll want to watch the training and validation losses. If your training loss is much lower than the validation loss, you're overfitting. Increase regularization (more dropout) or use a smaller network. If the training and validation losses are close, you're underfitting so you can increase the size of the network."
      ]
    },
    {
      "metadata": {
        "id": "1CNzwOHuUHRi",
        "colab_type": "text"
      },
      "cell_type": "markdown",
      "source": [
        "## Hyperparameters\n",
        "\n",
        "Here are the hyperparameters for the network.\n",
        "\n",
        "In defining the model:\n",
        "* `n_hidden` - The number of units in the hidden layers.\n",
        "* `n_layers` - Number of hidden LSTM layers to use.\n",
        "\n",
        "We assume that dropout probability and learning rate will be kept at the default, in this example.\n",
        "\n",
        "And in training:\n",
        "* `batch_size` - Number of sequences running through the network in one pass.\n",
        "* `seq_length` - Number of characters in the sequence the network is trained on. Larger is better typically, the network will learn more long range dependencies. But it takes longer to train. 100 is typically a good number here.\n",
        "* `lr` - Learning rate for training\n",
        "\n",
        "Here's some good advice from Andrej Karpathy on training the network. I'm going to copy it in here for your benefit, but also link to [where it originally came from](https://github.com/karpathy/char-rnn#tips-and-tricks).\n",
        "\n",
        "> ## Tips and Tricks\n",
        "\n",
        ">### Monitoring Validation Loss vs. Training Loss\n",
        ">If you're somewhat new to Machine Learning or Neural Networks it can take a bit of expertise to get good models. The most important quantity to keep track of is the difference between your training loss (printed during training) and the validation loss (printed once in a while when the RNN is run on the validation data (by default every 1000 iterations)). In particular:\n",
        "\n",
        "> - If your training loss is much lower than validation loss then this means the network might be **overfitting**. Solutions to this are to decrease your network size, or to increase dropout. For example you could try dropout of 0.5 and so on.\n",
        "> - If your training/validation loss are about equal then your model is **underfitting**. Increase the size of your model (either number of layers or the raw number of neurons per layer)\n",
        "\n",
        "> ### Approximate number of parameters\n",
        "\n",
        "> The two most important parameters that control the model are `n_hidden` and `n_layers`. I would advise that you always use `n_layers` of either 2/3. The `n_hidden` can be adjusted based on how much data you have. The two important quantities to keep track of here are:\n",
        "\n",
        "> - The number of parameters in your model. This is printed when you start training.\n",
        "> - The size of your dataset. 1MB file is approximately 1 million characters.\n",
        "\n",
        ">These two should be about the same order of magnitude. It's a little tricky to tell. Here are some examples:\n",
        "\n",
        "> - I have a 100MB dataset and I'm using the default parameter settings (which currently print 150K parameters). My data size is significantly larger (100 mil >> 0.15 mil), so I expect to heavily underfit. I am thinking I can comfortably afford to make `n_hidden` larger.\n",
        "> - I have a 10MB dataset and running a 10 million parameter model. I'm slightly nervous and I'm carefully monitoring my validation loss. If it's larger than my training loss then I may want to try to increase dropout a bit and see if that helps the validation loss.\n",
        "\n",
        "> ### Best models strategy\n",
        "\n",
        ">The winning strategy to obtaining very good models (if you have the compute time) is to always err on making the network larger (as large as you're willing to wait for it to compute) and then try different dropout values (between 0,1). Whatever model has the best validation performance (the loss, written in the checkpoint filename, low is good) is the one you should use in the end.\n",
        "\n",
        ">It is very common in deep learning to run many different models with many different hyperparameter settings, and in the end take whatever checkpoint gave the best validation performance.\n",
        "\n",
        ">By the way, the size of your training and validation splits are also parameters. Make sure you have a decent amount of data in your validation set or otherwise the validation performance will be noisy and not very informative."
      ]
    },
    {
      "metadata": {
        "id": "YOKb0GaPUHRm",
        "colab_type": "text"
      },
      "cell_type": "markdown",
      "source": [
        "## Checkpoint\n",
        "\n",
        "After training, we'll save the model so we can load it again later if we need too. Here I'm saving the parameters needed to create the same architecture, the hidden layer hyperparameters and the text characters."
      ]
    },
    {
      "metadata": {
        "id": "z8RQFf3BUHRu",
        "colab_type": "code",
        "colab": {}
      },
      "cell_type": "code",
      "source": [
        "# change the name, for saving multiple files\n",
        "model_name = 'rnn_x_epoch.net'\n",
        "\n",
        "checkpoint = {'n_hidden': net.n_hidden,\n",
        "              'n_layers': net.n_layers,\n",
        "              'state_dict': net.state_dict(),\n",
        "              'tokens': net.chars}\n",
        "\n",
        "with open(model_name, 'wb') as f:\n",
        "    torch.save(checkpoint, f)"
      ],
      "execution_count": 0,
      "outputs": []
    },
    {
      "metadata": {
        "id": "2MNjTlMWUHSA",
        "colab_type": "text"
      },
      "cell_type": "markdown",
      "source": [
        "---\n",
        "## Making Predictions\n",
        "\n",
        "Now that the model is trained, we'll want to sample from it and make predictions about next characters! To sample, we pass in a character and have the network predict the next character. Then we take that character, pass it back in, and get another predicted character. Just keep doing this and you'll generate a bunch of text!\n",
        "\n",
        "### A note on the `predict`  function\n",
        "\n",
        "The output of our RNN is from a fully-connected layer and it outputs a **distribution of next-character scores**.\n",
        "\n",
        "> To actually get the next character, we apply a softmax function, which gives us a *probability* distribution that we can then sample to predict the next character.\n",
        "\n",
        "### Top K sampling\n",
        "\n",
        "Our predictions come from a categorical probability distribution over all the possible characters. We can make the sample text and make it more reasonable to handle (with less variables) by only considering some $K$ most probable characters. This will prevent the network from giving us completely absurd characters while allowing it to introduce some noise and randomness into the sampled text. Read more about [topk, here](https://pytorch.org/docs/stable/torch.html#torch.topk).\n"
      ]
    },
    {
      "metadata": {
        "id": "Fdr2C7AqUHSD",
        "colab_type": "code",
        "colab": {}
      },
      "cell_type": "code",
      "source": [
        "def predict(net, char, h=None, top_k=None):\n",
        "        ''' Given a character, predict the next character.\n",
        "            Returns the predicted character and the hidden state.\n",
        "        '''\n",
        "        \n",
        "        # tensor inputs\n",
        "        x = np.array([[net.char2int[char]]])\n",
        "        x = one_hot_encode(x, len(net.chars))\n",
        "        inputs = torch.from_numpy(x)\n",
        "        \n",
        "        if(train_on_gpu):\n",
        "            inputs = inputs.cuda()\n",
        "        \n",
        "        # detach hidden state from history\n",
        "        h = tuple([each.data for each in h])\n",
        "        # get the output of the model\n",
        "        out, h = net(inputs, h)\n",
        "\n",
        "        # get the character probabilities\n",
        "        p = F.softmax(out, dim=1).data\n",
        "        if(train_on_gpu):\n",
        "            p = p.cpu() # move to cpu\n",
        "        \n",
        "        # get top characters\n",
        "        if top_k is None:\n",
        "            top_ch = np.arange(len(net.chars))\n",
        "        else:\n",
        "            p, top_ch = p.topk(top_k)\n",
        "            top_ch = top_ch.numpy().squeeze()\n",
        "        \n",
        "        # select the likely next character with some element of randomness\n",
        "        p = p.numpy().squeeze()\n",
        "        char = np.random.choice(top_ch, p=p/p.sum())\n",
        "        \n",
        "        # return the encoded value of the predicted char and the hidden state\n",
        "        return net.int2char[char], h"
      ],
      "execution_count": 0,
      "outputs": []
    },
    {
      "metadata": {
        "id": "p3a0fR0kUHSY",
        "colab_type": "text"
      },
      "cell_type": "markdown",
      "source": [
        "### Priming and generating text \n",
        "\n",
        "Typically you'll want to prime the network so you can build up a hidden state. Otherwise the network will start out generating characters at random. In general the first bunch of characters will be a little rough since it hasn't built up a long history of characters to predict from."
      ]
    },
    {
      "metadata": {
        "id": "zbz3M5ExUHS_",
        "colab_type": "code",
        "colab": {}
      },
      "cell_type": "code",
      "source": [
        "def sample(net, size, prime='The', top_k=None):\n",
        "        \n",
        "    if(train_on_gpu):\n",
        "        net.cuda()\n",
        "    else:\n",
        "        net.cpu()\n",
        "    \n",
        "    net.eval() # eval mode\n",
        "    \n",
        "    # First off, run through the prime characters\n",
        "    chars = [ch for ch in prime]\n",
        "    h = net.init_hidden(1)\n",
        "    for ch in prime:\n",
        "        char, h = predict(net, ch, h, top_k=top_k)\n",
        "\n",
        "    chars.append(char)\n",
        "    \n",
        "    # Now pass in the previous character and get a new one\n",
        "    for ii in range(size):\n",
        "        char, h = predict(net, chars[-1], h, top_k=top_k)\n",
        "        chars.append(char)\n",
        "\n",
        "    return ''.join(chars)"
      ],
      "execution_count": 0,
      "outputs": []
    },
    {
      "metadata": {
        "id": "jRkVTuQcUHTc",
        "colab_type": "code",
        "colab": {
          "base_uri": "https://localhost:8080/",
          "height": 434
        },
        "outputId": "adcd1b1b-cd2d-49a2-e1af-bb3848eadb84"
      },
      "cell_type": "code",
      "source": [
        "print(sample(net, 1000, prime='Anna', top_k=5))"
      ],
      "execution_count": 32,
      "outputs": [
        {
          "output_type": "stream",
          "text": [
            "Anna, that he\n",
            "had\n",
            "been seen fearing him, but it he seemed to be already, that\n",
            "was so much to the causes as an endion that were stronger to her attone\n",
            "with her.\n",
            "\n",
            "\"To say. But how did I'm a glittis counting! Is and with you, that I was\n",
            "not in the marriage with a continuatices of his sense of heart. That in this\n",
            "conversation one of my husbond, and these sense, a principall of myself in the\n",
            "steps, but take them to me. But it was she did not know how how\n",
            "her dunish of having some tone, it would be in a mose incomprehension of.\"\n",
            "\n",
            "\"World! I did not look at you to take a start, and that's anything; that you're\n",
            "sould, and I don't believe.\"\n",
            "\n",
            "\"Why, what do you see it to the country!\"\n",
            "\n",
            "Lidia Ivanovna has to go to sink at the complaints of such a moment to\n",
            "the beds of his bale, and he finished him all alone.\n",
            "\n",
            "She donst satisfaction, and the same side of that position was\n",
            "before\n",
            "from that she was all the complete officers. His healthy hand himself\n",
            "saw him. He hided the forms of the morning--and went out \n"
          ],
          "name": "stdout"
        }
      ]
    },
    {
      "metadata": {
        "id": "egnW2PkOUHT1",
        "colab_type": "text"
      },
      "cell_type": "markdown",
      "source": [
        "## Loading a checkpoint"
      ]
    },
    {
      "metadata": {
        "id": "NbY4o86uUHT2",
        "colab_type": "code",
        "colab": {}
      },
      "cell_type": "code",
      "source": [
        "# Here we have loaded in a model that trained over 20 epochs `rnn_20_epoch.net`\n",
        "with open('rnn_x_epoch.net', 'rb') as f:\n",
        "    checkpoint = torch.load(f)\n",
        "    \n",
        "loaded = CharRNN(checkpoint['tokens'], n_hidden=checkpoint['n_hidden'], n_layers=checkpoint['n_layers'])\n",
        "loaded.load_state_dict(checkpoint['state_dict'])"
      ],
      "execution_count": 0,
      "outputs": []
    },
    {
      "metadata": {
        "id": "hEf_qVPYUHT8",
        "colab_type": "code",
        "colab": {
          "base_uri": "https://localhost:8080/",
          "height": 746
        },
        "outputId": "55393ee1-a550-47ef-eaf1-a300f3c8ab4a"
      },
      "cell_type": "code",
      "source": [
        "# Sample using a loaded model\n",
        "print(sample(loaded, 2000, top_k=5, prime=\"And Levin said\"))"
      ],
      "execution_count": 34,
      "outputs": [
        {
          "output_type": "stream",
          "text": [
            "And Levin said, that\n",
            "she was taking in a thought.\n",
            "\n",
            "\"Then I don't say to say...\"\n",
            "\n",
            "\"Well, though, and I've been, and I'm not for your higher side,\n",
            "and what is something than she?\" he thought.\n",
            "\n",
            "\"I soon be in the contrary, and there's no stands and wint of me. And then and\n",
            "steary, it's on a moment in that family of the chanted in her hands.\n",
            "\n",
            "And here is it all to her...\"\n",
            "\n",
            "She had begon the poon with the frost of his start. The considerations,\n",
            "and she came in of that her hand. Too, and and through the carriage,\n",
            "there was not as if it was not any far from their stude, he saw\n",
            "her.\n",
            "\n",
            "The peasants was so many tears when straight all so much, he would\n",
            "had been thinking of to his horses which had brought herself to\n",
            "saying the marshal in this coarse of the strong. And where he was not firmly\n",
            "finding the facts of the conceptions and simple of seesing he was taking\n",
            "happiness, he sat down in society and already far as the fact what seemed\n",
            "to the course warme in a carching, had brought it, and, they wished to\n",
            "call the face of sick moments that the coundess had a clut whome. He\n",
            "sat down. He would never say at the table, and the forest he saw that that he\n",
            "was sitting as all the carriage and the corvers of solitical sense of\n",
            "senseion, he would be the secret and she did not know that as to\n",
            "see time, that which had not so thought of him it at those some of the\n",
            "frost and humbles which feeling that his countess one was the carriage.\n",
            "\n",
            "\"The staircase, the party--a landowners we are thinking to him; I'm going to be\n",
            "sending,\" she suided.\n",
            "\n",
            "\"Ah, his most little matter, I should not be ablaid of her husband about is\n",
            "the most sorral point. And such a little sense of treing it were trambling it\n",
            "in his weight and more strighted, and then is. He was a conscience if it,\n",
            "when something is so land of the chief, better as all the more and the\n",
            "peasants' service, truttful if that was that she was bound.\"\n",
            "\n",
            "\"And how so you, a minute, though I don't knew how he's so natural time,\n",
            "it is an ease to me in her husband, but in h\n"
          ],
          "name": "stdout"
        }
      ]
    },
    {
      "metadata": {
        "id": "dFymUQE8UHUR",
        "colab_type": "code",
        "colab": {}
      },
      "cell_type": "code",
      "source": [
        ""
      ],
      "execution_count": 0,
      "outputs": []
    }
  ]
}